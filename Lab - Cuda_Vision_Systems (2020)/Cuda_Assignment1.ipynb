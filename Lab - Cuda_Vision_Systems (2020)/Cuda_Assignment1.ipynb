{
 "cells": [
  {
   "cell_type": "markdown",
   "metadata": {},
   "source": [
    "# Cuda-vision Lab - Assignment 1\n",
    "##    Team Members:\n",
    "    - Mst.Mahfuja Akter\n",
    "    - Heiko Schmidt"
   ]
  },
  {
   "cell_type": "code",
   "execution_count": 1,
   "metadata": {},
   "outputs": [],
   "source": [
    "# only for the load_mnist function\n",
    "import os, struct\n",
    "from array import array as pyarray\n",
    "# general import\n",
    "import numpy as np\n",
    "from matplotlib import pyplot as plt"
   ]
  },
  {
   "cell_type": "code",
   "execution_count": 2,
   "metadata": {},
   "outputs": [],
   "source": [
    "#defining softmax function as activation function\n",
    "def softmax(x):\n",
    "    return np.exp(x) / np.sum(np.exp(x), axis=0)"
   ]
  },
  {
   "cell_type": "code",
   "execution_count": 3,
   "metadata": {},
   "outputs": [
    {
     "data": {
      "text/html": [
       "<style>\n",
       "  table {margin-left: 0 !important;}\n",
       "</style>\n"
      ],
      "text/plain": [
       "<IPython.core.display.HTML object>"
      ]
     },
     "metadata": {},
     "output_type": "display_data"
    }
   ],
   "source": [
    "%%html\n",
    "<style>\n",
    "  table {margin-left: 0 !important;}\n",
    "</style>"
   ]
  },
  {
   "cell_type": "markdown",
   "metadata": {},
   "source": [
    "We got provided this function in the lecture \"Deep Learning for visual recognition\".\n",
    "It reads and open the data according to following structere:\n",
    "\n",
    "# TRAINING SET LABEL FILE (train-labels-idx1-ubyte):\n",
    "|   [offset]   |   [type]     |     [value]   |     [description]   |\n",
    "|-|-|-|-|\n",
    "|0000   |  32 bit integer | 0x00000801(2049)| magic number (MSB first)|\n",
    "|0004  |   32 bit integer | 60000        |    number of items|\n",
    "|0008  |   unsigned byte  | ??           |    label   |\n",
    "|0009   |  unsigned byte |  ??          |     label   |\n",
    "||........||\n",
    "|xxxx   |  unsigned byte  | ??           |    label\n",
    "\n",
    "The labels values are 0 to 9.\n",
    "# TRAINING SET IMAGE FILE (train-images-idx3-ubyte):\n",
    "|   [offset]   |   [type]     |     [value]   |     [description]   |\n",
    "|-|-|-|-|\n",
    "|0000  |   32 bit integer | 0x00000803(2051)| magic number|\n",
    "0004   |  32 bit integer | 60000           | number of images|\n",
    "0008   |  32 bit integer | 28       |        number of rows|\n",
    "0012    | 32 bit integer | 28        |       number of columns|\n",
    "0016   |  unsigned byte |  ??       |        pixel|\n",
    "0017   |  unsigned byte |  ??   |           pixel|\n",
    "||........||\n",
    "|xxxx  |   unsigned byte |  ??        |       pixel|\n",
    "\n",
    "Pixels are organized row-wise. Pixel values are 0 to 255. 0 means background (white), 255 means foreground (black).\n",
    "# TEST SET LABEL FILE (t10k-labels-idx1-ubyte):\n",
    "|   [offset]   |   [type]     |     [value]   |     [description]   |\n",
    "|-|-|-|-|\n",
    "|0000  |   32 bit integer | 0x00000801(2049)| magic number (MSB first)|\n",
    "|0004  |   32 bit integer | 10000      |      number of items|\n",
    "|0008   |  unsigned byte |  ??         |      label|\n",
    "|0009  |   unsigned byte |  ??         |      label|\n",
    "||........||\n",
    "|xxxx   |  unsigned byte  | ??         |      label|\n",
    "\n",
    "The labels values are 0 to 9.\n",
    "# TEST SET IMAGE FILE (t10k-images-idx3-ubyte):\n",
    "|   [offset]   |   [type]     |     [value]   |     [description]   |\n",
    "|-|-|-|-|\n",
    "|0000   |  32 bit integer|  0x00000803(2051)| magic number|\n",
    "|0004   |  32 bit integer | 10000    |        number of images|\n",
    "|0008   |  32 bit integer|  28      |         number of rows|\n",
    "|0012   |  32 bit integer|  28      |         number of columns|\n",
    "|0016   |  unsigned byte|  ??      |         pixel|\n",
    "|0017    | unsigned byte |  ??      |         pixel|\n",
    "||........||\n",
    "|xxxx   |  unsigned byte |  ??      |         pixel|"
   ]
  },
  {
   "cell_type": "code",
   "execution_count": 4,
   "metadata": {},
   "outputs": [],
   "source": [
    "def load_mnist(dataset=\"training\", digits=np.arange(10), path=\".\"):\n",
    "    \"\"\"\n",
    "    Loads MNIST files into 3D numpy arrays \n",
    "    Adapted from: http://abel.ee.ucla.edu/cvxopt/_downloads/mnist.py\n",
    "    \"\"\"\n",
    "    \n",
    "    if dataset == \"training\":\n",
    "        fname_img = os.path.join(path, 'train-images-idx3-ubyte')\n",
    "        fname_lbl = os.path.join(path, 'train-labels-idx1-ubyte')\n",
    "    elif dataset == \"testing\":\n",
    "        fname_img = os.path.join(path, 't10k-images-idx3-ubyte')\n",
    "        fname_lbl = os.path.join(path, 't10k-labels-idx1-ubyte')\n",
    "    else:\n",
    "        raise ValueError(\"dataset must be 'testing' or 'training'\")\n",
    "\n",
    "    \n",
    "    flbl = open(fname_lbl, 'rb')\n",
    "    magic_nr, size = struct.unpack(\">II\", flbl.read(8))\n",
    "    lbl = pyarray(\"b\", flbl.read())\n",
    "    flbl.close()\n",
    "\n",
    "    fimg = open(fname_img, 'rb')\n",
    "    magic_nr, size, rows, cols = struct.unpack(\">IIII\", fimg.read(16))\n",
    "    img = pyarray(\"B\", fimg.read())\n",
    "    fimg.close()\n",
    "\n",
    "    ind = [ k for k in range(size) if lbl[k] in digits ]\n",
    "    N = len(ind)\n",
    "\n",
    "    images = np.zeros((N, rows, cols) )\n",
    "    labels = np.zeros((N ) )\n",
    "    for i in range(len(ind)):\n",
    "        images[i] = np.array(img[ ind[i]*rows*cols : (ind[i]+1)*rows*cols ]).reshape((rows, cols))\n",
    "        labels[i] = lbl[ind[i]]\n",
    "\n",
    "    return images, labels"
   ]
  },
  {
   "cell_type": "code",
   "execution_count": 5,
   "metadata": {},
   "outputs": [],
   "source": [
    "np.random.seed(0)"
   ]
  },
  {
   "cell_type": "markdown",
   "metadata": {},
   "source": [
    "Now we can load the MNIST data set and use load_mnist function to load the raw data and also process it into manageable chunks.<br>\n",
    "Our path is: data/MNIST/raw/"
   ]
  },
  {
   "cell_type": "code",
   "execution_count": 6,
   "metadata": {},
   "outputs": [
    {
     "name": "stdout",
     "output_type": "stream",
     "text": [
      "Please enter the path for training data starting from the executed ipynb file:data/MNIST/raw/\n",
      "Please enter the path for test data starting from the executed ipynb file:data/MNIST/raw/\n"
     ]
    }
   ],
   "source": [
    "path = input(\"Please enter the path for training data starting from the executed ipynb file:\")\n",
    "train_data, train_label = load_mnist(\"training\",path=path)\n",
    "path = input(\"Please enter the path for test data starting from the executed ipynb file:\")\n",
    "test_data, test_label = load_mnist(\"testing\",path=path)"
   ]
  },
  {
   "cell_type": "code",
   "execution_count": 7,
   "metadata": {},
   "outputs": [],
   "source": [
    "# Reshape the image data into rows\n",
    "image_vector_size = 28*28\n",
    "train_data = train_data.reshape(train_data.shape[0], image_vector_size)\n",
    "test_data = test_data.reshape(test_data.shape[0], image_vector_size)\n",
    "# Change to float datatype\n",
    "train_data = train_data.astype('float32')\n",
    "test_data = test_data.astype('float32')\n",
    " \n",
    "# Scale the data to lie between 0 to 1\n",
    "train_data /= 255\n",
    "test_data /= 255"
   ]
  },
  {
   "cell_type": "code",
   "execution_count": 8,
   "metadata": {},
   "outputs": [],
   "source": [
    "def one_hot_classification_converter(data,classes):\n",
    "    num_classes = len(classes)\n",
    "    representation = np.zeros((len(data),num_classes))\n",
    "    for ele,ind in zip(data,range(len(data))):\n",
    "        representation[ind][int(ele)] = 1\n",
    "    return representation"
   ]
  },
  {
   "cell_type": "code",
   "execution_count": 9,
   "metadata": {},
   "outputs": [
    {
     "name": "stdout",
     "output_type": "stream",
     "text": [
      "[5. 0. 4. 1. 9. 2. 1. 3. 1. 4.]\n",
      "[[0 0 0 0 0 1 0 0 0 0]\n",
      " [1 0 0 0 0 0 0 0 0 0]\n",
      " [0 0 0 0 1 0 0 0 0 0]\n",
      " [0 1 0 0 0 0 0 0 0 0]\n",
      " [0 0 0 0 0 0 0 0 0 1]\n",
      " [0 0 1 0 0 0 0 0 0 0]\n",
      " [0 1 0 0 0 0 0 0 0 0]\n",
      " [0 0 0 1 0 0 0 0 0 0]\n",
      " [0 1 0 0 0 0 0 0 0 0]\n",
      " [0 0 0 0 1 0 0 0 0 0]]\n"
     ]
    }
   ],
   "source": [
    "num_classes = 10\n",
    "image_size = 784 #28x28\n",
    "batch_size = 20\n",
    "# Change the labels from integer to categorical data\n",
    "lr = np.arange(num_classes)\n",
    "# transform labels into one hot representation\n",
    "y_train_one_hot = one_hot_classification_converter(train_label,lr).astype(int)\n",
    "y_test_one_hot =  one_hot_classification_converter(test_label,lr).astype(int)\n",
    "\n",
    "# shows that one-hot-encoding is correctly applied\n",
    "print(train_label[:10])\n",
    "print(y_train_one_hot[:10])"
   ]
  },
  {
   "cell_type": "code",
   "execution_count": 10,
   "metadata": {},
   "outputs": [
    {
     "name": "stdout",
     "output_type": "stream",
     "text": [
      "[[0.5488135  0.71518937]\n",
      " [0.60276338 0.54488318]\n",
      " [0.4236548  0.64589411]\n",
      " [0.43758721 0.891773  ]\n",
      " [0.96366276 0.38344152]\n",
      " [0.79172504 0.52889492]\n",
      " [0.56804456 0.92559664]\n",
      " [0.07103606 0.0871293 ]\n",
      " [0.0202184  0.83261985]\n",
      " [0.77815675 0.87001215]]\n",
      "[2 3 8 1 3 3 3 7 0 1]\n",
      "[0 1 2 3 4 5 6 7 8 9]\n",
      "[8 1 5 6 3 4 2 7 0 9]\n",
      "[[0.0202184  0.83261985]\n",
      " [0.60276338 0.54488318]\n",
      " [0.79172504 0.52889492]\n",
      " [0.56804456 0.92559664]\n",
      " [0.43758721 0.891773  ]\n",
      " [0.96366276 0.38344152]\n",
      " [0.4236548  0.64589411]\n",
      " [0.07103606 0.0871293 ]\n",
      " [0.5488135  0.71518937]\n",
      " [0.77815675 0.87001215]]\n"
     ]
    }
   ],
   "source": [
    "# test code for shuffling data\n",
    "A = np.random.random((10,2))\n",
    "B = np.random.randint(10,size=(10))\n",
    "print(A)\n",
    "print(B)\n",
    "C = np.arange(len(B))\n",
    "print(C)\n",
    "np.random.shuffle(C)\n",
    "print(C)\n",
    "A = A[C]\n",
    "print(A)\n"
   ]
  },
  {
   "cell_type": "code",
   "execution_count": 11,
   "metadata": {},
   "outputs": [
    {
     "name": "stdout",
     "output_type": "stream",
     "text": [
      "[[0.21655035 0.13521817 0.32414101 0.14967487 0.22232139]\n",
      " [0.38648898 0.90259848 0.44994999 0.61306346 0.90234858]\n",
      " [0.09928035 0.96980907 0.65314004 0.17090959 0.35815217]\n",
      " [0.75068614 0.60783067 0.32504723 0.03842543 0.63427406]]\n",
      "8.909910008064497\n",
      "8.909910008064495\n",
      "0.4454955004032247\n",
      "0.44549550040322483\n"
     ]
    }
   ],
   "source": [
    "# checking what ndarray.mean() is actually calculating\n",
    "A = np.random.random((4,5))\n",
    "print(A)\n",
    "print(A.sum())\n",
    "sum = 0\n",
    "for row in A:\n",
    "    for ele in row:\n",
    "        sum +=ele\n",
    "print(sum)\n",
    "print(sum/20)\n",
    "print(A.mean())"
   ]
  },
  {
   "cell_type": "code",
   "execution_count": 12,
   "metadata": {},
   "outputs": [
    {
     "name": "stdout",
     "output_type": "stream",
     "text": [
      "[[0.95894927 0.65279032 0.63505887 0.99529957]\n",
      " [0.58185033 0.41436859 0.4746975  0.6235101 ]\n",
      " [0.33800761 0.67475232 0.31720174 0.77834548]\n",
      " [0.94957105 0.66252687 0.01357164 0.6228461 ]\n",
      " [0.67365963 0.971945   0.87819347 0.50962438]]\n",
      "\n",
      "\n",
      "[[2.60895372 1.92089326 1.88713324 2.70553471]\n",
      " [1.78934625 1.51341485 1.60752785 1.86546453]\n",
      " [1.40215118 1.96354659 1.37327959 2.17786596]\n",
      " [2.58460077 1.93968748 1.01366415 1.86422626]\n",
      " [1.96140221 2.64308026 2.40654828 1.66466579]]\n",
      "\n",
      "[9.12251493 6.77575348 6.91684333 7.40217866 8.67569654]\n",
      "\n",
      "[[0.28599062 0.2105662  0.20686546 0.29657772]\n",
      " [0.26408078 0.22335743 0.2372471  0.2753147 ]\n",
      " [0.20271548 0.283879   0.19854138 0.31486415]\n",
      " [0.34916757 0.26204278 0.13694132 0.25184832]\n",
      " [0.22608008 0.30465338 0.27738963 0.1918769 ]]\n",
      "4.999999999999999\n",
      "[[0.28599062 0.2105662  0.20686546 0.29657772]\n",
      " [0.26408078 0.22335743 0.2372471  0.2753147 ]\n",
      " [0.20271548 0.283879   0.19854138 0.31486415]\n",
      " [0.34916757 0.26204278 0.13694132 0.25184832]\n",
      " [0.22608008 0.30465338 0.27738963 0.1918769 ]]\n",
      "\n",
      "[[0.25215921 0.19246227 0.22769044 0.26324174]\n",
      " [0.17294295 0.15163532 0.19395489 0.18150502]\n",
      " [0.13551997 0.19673589 0.16569187 0.2119009 ]\n",
      " [0.24980546 0.19434534 0.12230278 0.18138454]\n",
      " [0.18957241 0.26482118 0.29036002 0.16196781]]\n",
      "4.0\n"
     ]
    }
   ],
   "source": [
    "# test the softmax function\n",
    "A = np.random.random((5,4))\n",
    "print(A)\n",
    "print()\n",
    "expA = np.exp(A)\n",
    "exp_sumA = np.sum(expA,axis=1)\n",
    "print()\n",
    "print(expA)\n",
    "print()\n",
    "print(exp_sumA)\n",
    "print()\n",
    "cpy_expA = np.copy(expA)\n",
    "for row,ind in zip(expA,range(len(expA))):\n",
    "    expA[ind] = row/exp_sumA[ind]\n",
    "print(expA)\n",
    "print(expA.sum())\n",
    "print(np.transpose(softmax(np.transpose(A))))\n",
    "print()\n",
    "print(softmax(A))\n",
    "print(softmax(A).sum())"
   ]
  },
  {
   "cell_type": "code",
   "execution_count": 13,
   "metadata": {},
   "outputs": [
    {
     "name": "stdout",
     "output_type": "stream",
     "text": [
      "[[2.60895372 1.92089326 1.88713324 2.70553471]\n",
      " [1.78934625 1.51341485 1.60752785 1.86546453]\n",
      " [1.40215118 1.96354659 1.37327959 2.17786596]\n",
      " [2.58460077 1.93968748 1.01366415 1.86422626]\n",
      " [1.96140221 2.64308026 2.40654828 1.66466579]]\n",
      "\n",
      "[[2.60895372 1.78934625 1.40215118 2.58460077 1.96140221]\n",
      " [1.92089326 1.51341485 1.96354659 1.93968748 2.64308026]\n",
      " [1.88713324 1.60752785 1.37327959 1.01366415 2.40654828]\n",
      " [2.70553471 1.86546453 2.17786596 1.86422626 1.66466579]]\n",
      "\n",
      "[[0.25215921 0.19246227 0.22769044 0.26324174]\n",
      " [0.17294295 0.15163532 0.19395489 0.18150502]\n",
      " [0.13551997 0.19673589 0.16569187 0.2119009 ]\n",
      " [0.24980546 0.19434534 0.12230278 0.18138454]\n",
      " [0.18957241 0.26482118 0.29036002 0.16196781]]\n",
      "4.0\n"
     ]
    }
   ],
   "source": [
    "# This leads to investigate further; it seems that softmax is columnwise and not rowwise, but our data is rowwise\n",
    "expA = cpy_expA\n",
    "print(expA)\n",
    "print()\n",
    "expA = np.transpose(expA)\n",
    "exp_sumA = np.sum(expA,axis=1)\n",
    "print(expA)\n",
    "print()\n",
    "for row,ind in zip(expA,range(len(expA))):\n",
    "    expA[ind] = row/exp_sumA[ind]\n",
    "expA = np.transpose(expA)\n",
    "print(expA)\n",
    "print(expA.sum())"
   ]
  },
  {
   "cell_type": "code",
   "execution_count": 14,
   "metadata": {},
   "outputs": [
    {
     "data": {
      "text/plain": [
       "[<matplotlib.lines.Line2D at 0x226df76e3c8>]"
      ]
     },
     "execution_count": 14,
     "metadata": {},
     "output_type": "execute_result"
    },
    {
     "data": {
      "image/png": "[encoded data removed]",
      "text/plain": [
       "<Figure size 432x288 with 1 Axes>"
      ]
     },
     "metadata": {
      "needs_background": "light"
     },
     "output_type": "display_data"
    }
   ],
   "source": [
    "#2 layer Neural network code \n",
    "#initialize random seed\n",
    "\n",
    "\n",
    "#Weight matrix of size 784x10\n",
    "W = np.random.normal(size=(image_size,num_classes))\n",
    "bias = np.zeros(num_classes)\n",
    "learnrate = 0.01\n",
    "error = []\n",
    "final_error = []\n",
    "epoches = 10\n",
    "for e in range(epoches):\n",
    "    # each epoche randomly shuffle the data \n",
    "    tmp_shuffler = np.arange(len(train_label))\n",
    "    train_data = train_data[tmp_shuffler]\n",
    "    train_label = train_label[tmp_shuffler]\n",
    "    y_train_one_hot = y_train_one_hot[tmp_shuffler]\n",
    "    \n",
    "    #defining a for loop from 1 to 60000 where the batch size is 20\n",
    "    for i in range(1,60000,batch_size):\n",
    "        layer_0 = train_data[i:i+batch_size,:]\n",
    "        # check above 2 cells why we need a double transpose here\n",
    "        layer_1 = np.transpose(softmax(np.transpose(np.dot(layer_0,W)+bias)))  \n",
    "        # calculate (teacher-output) for whole batch\n",
    "        absolute_error = np.subtract(y_train_one_hot[i:i+batch_size,:], layer_1)\n",
    "        # calculate MSE\n",
    "        batch_error = (0.5*np.square(absolute_error).sum())/batch_size\n",
    "        #print(\"epoch:\",e,\";batch:\",i,\" error:\",batch_error)\n",
    "        \n",
    "        # calculate general delta rule\n",
    "        delta = layer_1*(1-layer_1)*absolute_error\n",
    "        W_change = learnrate*np.dot(np.transpose(layer_0),delta)\n",
    "        W += W_change\n",
    "        \n",
    "        error.append(batch_error)\n",
    "        \n",
    "    final_error.append(np.mean(error))\n",
    "    error.clear()\n",
    "    \n",
    "plt.plot(final_error)"
   ]
  },
  {
   "cell_type": "code",
   "execution_count": null,
   "metadata": {},
   "outputs": [],
   "source": []
  }
 ],
 "metadata": {
  "kernelspec": {
   "display_name": "Python 3 (ipykernel)",
   "language": "python",
   "name": "python3"
  },
  "language_info": {
   "codemirror_mode": {
    "name": "ipython",
    "version": 3
   },
   "file_extension": ".py",
   "mimetype": "text/x-python",
   "name": "python",
   "nbconvert_exporter": "python",
   "pygments_lexer": "ipython3",
   "version": "3.8.13"
  }
 },
 "nbformat": 4,
 "nbformat_minor": 2
}
