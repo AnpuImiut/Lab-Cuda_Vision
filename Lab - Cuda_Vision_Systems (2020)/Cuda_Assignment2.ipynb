{
  "nbformat": 4,
  "nbformat_minor": 0,
  "metadata": {
    "colab": {
      "name": "cudaVisionlab-assignment-2-Akter,Schmidt",
      "provenance": [],
      "collapsed_sections": []
    },
    "kernelspec": {
      "name": "python3",
      "display_name": "Python 3"
    },
    "accelerator": "GPU",
    "widgets": {
      "application/vnd.jupyter.widget-state+json": {
        "f4d5e91361b842dcae7bf758e859c05b": {
          "model_module": "@jupyter-widgets/controls",
          "model_name": "HBoxModel",
          "state": {
            "_view_name": "HBoxView",
            "_dom_classes": [],
            "_model_name": "HBoxModel",
            "_view_module": "@jupyter-widgets/controls",
            "_model_module_version": "1.5.0",
            "_view_count": null,
            "_view_module_version": "1.5.0",
            "box_style": "",
            "layout": "IPY_MODEL_3183730266fb44c4a0c80d9c467ca528",
            "_model_module": "@jupyter-widgets/controls",
            "children": [
              "IPY_MODEL_94439d4d7a7141d6be049f29afab4595",
              "IPY_MODEL_bd11c7089fc2417d925a40fdd9394554"
            ]
          }
        },
        "3183730266fb44c4a0c80d9c467ca528": {
          "model_module": "@jupyter-widgets/base",
          "model_name": "LayoutModel",
          "state": {
            "_view_name": "LayoutView",
            "grid_template_rows": null,
            "right": null,
            "justify_content": null,
            "_view_module": "@jupyter-widgets/base",
            "overflow": null,
            "_model_module_version": "1.2.0",
            "_view_count": null,
            "flex_flow": null,
            "width": null,
            "min_width": null,
            "border": null,
            "align_items": null,
            "bottom": null,
            "_model_module": "@jupyter-widgets/base",
            "top": null,
            "grid_column": null,
            "overflow_y": null,
            "overflow_x": null,
            "grid_auto_flow": null,
            "grid_area": null,
            "grid_template_columns": null,
            "flex": null,
            "_model_name": "LayoutModel",
            "justify_items": null,
            "grid_row": null,
            "max_height": null,
            "align_content": null,
            "visibility": null,
            "align_self": null,
            "height": null,
            "min_height": null,
            "padding": null,
            "grid_auto_rows": null,
            "grid_gap": null,
            "max_width": null,
            "order": null,
            "_view_module_version": "1.2.0",
            "grid_template_areas": null,
            "object_position": null,
            "object_fit": null,
            "grid_auto_columns": null,
            "margin": null,
            "display": null,
            "left": null
          }
        },
        "94439d4d7a7141d6be049f29afab4595": {
          "model_module": "@jupyter-widgets/controls",
          "model_name": "FloatProgressModel",
          "state": {
            "_view_name": "ProgressView",
            "style": "IPY_MODEL_35786c8f4dc648a6a9f4f6dfb1ddda1a",
            "_dom_classes": [],
            "description": "",
            "_model_name": "FloatProgressModel",
            "bar_style": "info",
            "max": 1,
            "_view_module": "@jupyter-widgets/controls",
            "_model_module_version": "1.5.0",
            "value": 1,
            "_view_count": null,
            "_view_module_version": "1.5.0",
            "orientation": "horizontal",
            "min": 0,
            "description_tooltip": null,
            "_model_module": "@jupyter-widgets/controls",
            "layout": "IPY_MODEL_2914c53336e248aa8a006ac251e3287f"
          }
        },
        "bd11c7089fc2417d925a40fdd9394554": {
          "model_module": "@jupyter-widgets/controls",
          "model_name": "HTMLModel",
          "state": {
            "_view_name": "HTMLView",
            "style": "IPY_MODEL_f12aad43f6284f02bc497997b4d5b624",
            "_dom_classes": [],
            "description": "",
            "_model_name": "HTMLModel",
            "placeholder": "​",
            "_view_module": "@jupyter-widgets/controls",
            "_model_module_version": "1.5.0",
            "value": " 170500096/? [00:20&lt;00:00, 32479659.01it/s]",
            "_view_count": null,
            "_view_module_version": "1.5.0",
            "description_tooltip": null,
            "_model_module": "@jupyter-widgets/controls",
            "layout": "IPY_MODEL_f369fe78e2b34b69a340db2ddb8eda67"
          }
        },
        "35786c8f4dc648a6a9f4f6dfb1ddda1a": {
          "model_module": "@jupyter-widgets/controls",
          "model_name": "ProgressStyleModel",
          "state": {
            "_view_name": "StyleView",
            "_model_name": "ProgressStyleModel",
            "description_width": "initial",
            "_view_module": "@jupyter-widgets/base",
            "_model_module_version": "1.5.0",
            "_view_count": null,
            "_view_module_version": "1.2.0",
            "bar_color": null,
            "_model_module": "@jupyter-widgets/controls"
          }
        },
        "2914c53336e248aa8a006ac251e3287f": {
          "model_module": "@jupyter-widgets/base",
          "model_name": "LayoutModel",
          "state": {
            "_view_name": "LayoutView",
            "grid_template_rows": null,
            "right": null,
            "justify_content": null,
            "_view_module": "@jupyter-widgets/base",
            "overflow": null,
            "_model_module_version": "1.2.0",
            "_view_count": null,
            "flex_flow": null,
            "width": null,
            "min_width": null,
            "border": null,
            "align_items": null,
            "bottom": null,
            "_model_module": "@jupyter-widgets/base",
            "top": null,
            "grid_column": null,
            "overflow_y": null,
            "overflow_x": null,
            "grid_auto_flow": null,
            "grid_area": null,
            "grid_template_columns": null,
            "flex": null,
            "_model_name": "LayoutModel",
            "justify_items": null,
            "grid_row": null,
            "max_height": null,
            "align_content": null,
            "visibility": null,
            "align_self": null,
            "height": null,
            "min_height": null,
            "padding": null,
            "grid_auto_rows": null,
            "grid_gap": null,
            "max_width": null,
            "order": null,
            "_view_module_version": "1.2.0",
            "grid_template_areas": null,
            "object_position": null,
            "object_fit": null,
            "grid_auto_columns": null,
            "margin": null,
            "display": null,
            "left": null
          }
        },
        "f12aad43f6284f02bc497997b4d5b624": {
          "model_module": "@jupyter-widgets/controls",
          "model_name": "DescriptionStyleModel",
          "state": {
            "_view_name": "StyleView",
            "_model_name": "DescriptionStyleModel",
            "description_width": "",
            "_view_module": "@jupyter-widgets/base",
            "_model_module_version": "1.5.0",
            "_view_count": null,
            "_view_module_version": "1.2.0",
            "_model_module": "@jupyter-widgets/controls"
          }
        },
        "f369fe78e2b34b69a340db2ddb8eda67": {
          "model_module": "@jupyter-widgets/base",
          "model_name": "LayoutModel",
          "state": {
            "_view_name": "LayoutView",
            "grid_template_rows": null,
            "right": null,
            "justify_content": null,
            "_view_module": "@jupyter-widgets/base",
            "overflow": null,
            "_model_module_version": "1.2.0",
            "_view_count": null,
            "flex_flow": null,
            "width": null,
            "min_width": null,
            "border": null,
            "align_items": null,
            "bottom": null,
            "_model_module": "@jupyter-widgets/base",
            "top": null,
            "grid_column": null,
            "overflow_y": null,
            "overflow_x": null,
            "grid_auto_flow": null,
            "grid_area": null,
            "grid_template_columns": null,
            "flex": null,
            "_model_name": "LayoutModel",
            "justify_items": null,
            "grid_row": null,
            "max_height": null,
            "align_content": null,
            "visibility": null,
            "align_self": null,
            "height": null,
            "min_height": null,
            "padding": null,
            "grid_auto_rows": null,
            "grid_gap": null,
            "max_width": null,
            "order": null,
            "_view_module_version": "1.2.0",
            "grid_template_areas": null,
            "object_position": null,
            "object_fit": null,
            "grid_auto_columns": null,
            "margin": null,
            "display": null,
            "left": null
          }
        }
      }
    }
  },
  "cells": [
    {
      "cell_type": "code",
      "metadata": {
        "id": "yqTrQCreW60M",
        "colab_type": "code",
        "colab": {
          "base_uri": "https://localhost:8080/",
          "height": 54
        },
        "outputId": "94383ac2-7457-4897-b07f-514ec04511a3"
      },
      "source": [
        "import torch\n",
        "import torch.nn as nn\n",
        "import torchvision.transforms as transforms\n",
        "import torchvision.datasets as dsets\n",
        "import torch.utils as torchU\n",
        "import random as rand\n",
        "import math\n",
        "import numpy as np\n",
        "import seaborn as sn\n",
        "import pandas as pd\n",
        "import matplotlib.pyplot as plt \n",
        "from sklearn.metrics import confusion_matrix"
      ],
      "execution_count": 1,
      "outputs": [
        {
          "output_type": "stream",
          "text": [
            "/usr/local/lib/python3.6/dist-packages/statsmodels/tools/_testing.py:19: FutureWarning: pandas.util.testing is deprecated. Use the functions in the public API at pandas.testing instead.\n",
            "  import pandas.util.testing as tm\n"
          ],
          "name": "stderr"
        }
      ]
    },
    {
      "cell_type": "code",
      "metadata": {
        "id": "L_Da2ACeevGe",
        "colab_type": "code",
        "outputId": "69e7699d-0c20-47b0-df48-40d7d2bf1705",
        "colab": {
          "base_uri": "https://localhost:8080/",
          "height": 54
        }
      },
      "source": [
        "\"\"\"\n",
        "  check if cuda is avaible and does some initializations regarding Cuda or Torch\n",
        "\"\"\"\n",
        "print(torch.__version__)\n",
        "torch.cuda.is_available()\n",
        "#torch.random.seed()"
      ],
      "execution_count": 2,
      "outputs": [
        {
          "output_type": "stream",
          "text": [
            "1.5.0+cu101\n"
          ],
          "name": "stdout"
        },
        {
          "output_type": "execute_result",
          "data": {
            "text/plain": [
              "True"
            ]
          },
          "metadata": {
            "tags": []
          },
          "execution_count": 2
        }
      ]
    },
    {
      "cell_type": "code",
      "metadata": {
        "id": "5w-ZscyQs9oS",
        "colab_type": "code",
        "outputId": "b9b526e0-6521-4035-a9f3-547102939c13",
        "colab": {
          "base_uri": "https://localhost:8080/",
          "height": 329
        }
      },
      "source": [
        "!nvidia-smi"
      ],
      "execution_count": 3,
      "outputs": [
        {
          "output_type": "stream",
          "text": [
            "Sun Jun  7 17:43:44 2020       \n",
            "+-----------------------------------------------------------------------------+\n",
            "| NVIDIA-SMI 440.82       Driver Version: 418.67       CUDA Version: 10.1     |\n",
            "|-------------------------------+----------------------+----------------------+\n",
            "| GPU  Name        Persistence-M| Bus-Id        Disp.A | Volatile Uncorr. ECC |\n",
            "| Fan  Temp  Perf  Pwr:Usage/Cap|         Memory-Usage | GPU-Util  Compute M. |\n",
            "|===============================+======================+======================|\n",
            "|   0  Tesla T4            Off  | 00000000:00:04.0 Off |                    0 |\n",
            "| N/A   65C    P8    11W /  70W |     10MiB / 15079MiB |      0%      Default |\n",
            "+-------------------------------+----------------------+----------------------+\n",
            "                                                                               \n",
            "+-----------------------------------------------------------------------------+\n",
            "| Processes:                                                       GPU Memory |\n",
            "|  GPU       PID   Type   Process name                             Usage      |\n",
            "|=============================================================================|\n",
            "|  No running processes found                                                 |\n",
            "+-----------------------------------------------------------------------------+\n"
          ],
          "name": "stdout"
        }
      ]
    },
    {
      "cell_type": "code",
      "metadata": {
        "id": "DEluN86LbJ8K",
        "colab_type": "code",
        "outputId": "74c54d70-09c7-4d0d-a407-523e72be9906",
        "colab": {
          "base_uri": "https://localhost:8080/",
          "height": 104,
          "referenced_widgets": [
            "f4d5e91361b842dcae7bf758e859c05b",
            "3183730266fb44c4a0c80d9c467ca528",
            "94439d4d7a7141d6be049f29afab4595",
            "bd11c7089fc2417d925a40fdd9394554",
            "35786c8f4dc648a6a9f4f6dfb1ddda1a",
            "2914c53336e248aa8a006ac251e3287f",
            "f12aad43f6284f02bc497997b4d5b624",
            "f369fe78e2b34b69a340db2ddb8eda67"
          ]
        }
      },
      "source": [
        "\"\"\"\n",
        "  Loading datasets and preparing the transformations\n",
        "\n",
        "  transforms.ToTensor():\n",
        "  Converts a PIL.Image or numpy.ndarray (H x W x C) in the range\n",
        "    [0, 255] to a torch.FloatTensor of shape (C x H x W) in the range [0.0, 1.0].\n",
        "  So no normalization is required\n",
        "\"\"\"\n",
        "trainset = dsets.CIFAR10('./data', train=True, download=True, transform=transforms.ToTensor())\n",
        "testset = dsets.CIFAR10('./data', train=False, download=True, transform=transforms.ToTensor())"
      ],
      "execution_count": 4,
      "outputs": [
        {
          "output_type": "stream",
          "text": [
            "Downloading https://www.cs.toronto.edu/~kriz/cifar-10-python.tar.gz to ./data/cifar-10-python.tar.gz\n"
          ],
          "name": "stdout"
        },
        {
          "output_type": "display_data",
          "data": {
            "application/vnd.jupyter.widget-view+json": {
              "model_id": "f4d5e91361b842dcae7bf758e859c05b",
              "version_minor": 0,
              "version_major": 2
            },
            "text/plain": [
              "HBox(children=(FloatProgress(value=1.0, bar_style='info', max=1.0), HTML(value='')))"
            ]
          },
          "metadata": {
            "tags": []
          }
        },
        {
          "output_type": "stream",
          "text": [
            "Extracting ./data/cifar-10-python.tar.gz to ./data\n",
            "Files already downloaded and verified\n"
          ],
          "name": "stdout"
        }
      ]
    },
    {
      "cell_type": "code",
      "metadata": {
        "id": "xurxuSiWdmRS",
        "colab_type": "code",
        "colab": {}
      },
      "source": [
        "train_classes = trainset.classes\n",
        "testset_classes = testset.classes"
      ],
      "execution_count": 0,
      "outputs": []
    },
    {
      "cell_type": "code",
      "metadata": {
        "id": "0f6UaJqifIKb",
        "colab_type": "code",
        "colab": {}
      },
      "source": [
        "\"\"\"\n",
        "  Setting up the class for logistic regression classifier\n",
        "  parameters:\n",
        "    layers: list containing the input sizes from layer to layer\n",
        "\"\"\"\n",
        "class Model(torch.nn.Module):\n",
        "    def __init__(self,layers,layer_type):\n",
        "        super(Model, self).__init__()\n",
        "        self.net = []\n",
        "        for i,j in zip(range(len(layers)-1),range(len(layer_type))):\n",
        "          if layer_type[j] == \"tanh\":\n",
        "            self.net.append(nn.Linear(layers[i],layers[i+1]))\n",
        "            self.net.append(nn.Tanh())\n",
        "            continue\n",
        "          if layer_type[j] == \"sigmoid\":\n",
        "            self.net.append(nn.Linear(layers[i],layers[i+1]))\n",
        "            self.net.append(nn.Sigmoid())\n",
        "            continue\n",
        "          if layer_type[j] == \"linear\":\n",
        "            self.net.append(nn.Linear(layers[i],layers[i+1]))\n",
        "            continue\n",
        "          if layer_type[j] == \"relu\":\n",
        "            self.net.append(nn.Linear(layers[i],layers[i+1]))\n",
        "            self.net.append(nn.ReLU())\n",
        "            continue\n",
        "        self.net = nn.Sequential(*self.net)\n",
        "\n",
        "    def forward(self, x):\n",
        "        return self.net(x)"
      ],
      "execution_count": 0,
      "outputs": []
    },
    {
      "cell_type": "code",
      "metadata": {
        "id": "l33EUgQ7WHdb",
        "colab_type": "code",
        "colab": {}
      },
      "source": [
        "\"\"\"\n",
        "  This function simply makes the train loop more readible.\n",
        "\"\"\"\n",
        "def learn_one_batch(model,batch,labels,loss_func,optimizer,train=True):\n",
        "  # put data and labals on GPU\n",
        "  batch =  batch.cuda()\n",
        "  labels = labels.cuda()\n",
        "  # flatten the batch\n",
        "  batch = torch.reshape(batch,[len(batch),32*32*3])\n",
        "  # calculate prediction and error\n",
        "  pred = model(batch)\n",
        "  error = loss_func(pred,labels)\n",
        "  pred_as_indices = torch.max(pred,dim=1).indices\n",
        "  accuracy = float(((pred_as_indices == labels).sum().float() / float(len(labels))))\n",
        "\n",
        "  if train:\n",
        "    # backward + apply gradient descent\n",
        "    optimizer.zero_grad()\n",
        "    error.backward()\n",
        "    optimizer.step()\n",
        "  \n",
        "  return batch,labels,pred,pred_as_indices,float(error),accuracy\n"
      ],
      "execution_count": 0,
      "outputs": []
    },
    {
      "cell_type": "code",
      "metadata": {
        "id": "Z-SvLZAkbHz9",
        "colab_type": "code",
        "colab": {}
      },
      "source": [
        "\"\"\"\n",
        "  The gradient norm is calculated for each weight layer where bias is also acounted as a weight.\n",
        "  We couldnt see a good reason why it would make sense to plot each single weight as a parameter.\n",
        "  It is very common in to observe the gradient norm per layer.\n",
        "\"\"\"\n",
        "def calculate_gradient_norm(model,layer_list):\n",
        "  # gradient norm\n",
        "  layer_counter = 0\n",
        "  actual_layer = 0\n",
        "  weights = None\n",
        "  bias = None\n",
        "  for p in list(filter(lambda p: p.grad is not None, model.parameters())):\n",
        "    if layer_counter == 0:\n",
        "      weights = p.data\n",
        "      layer_counter += 1\n",
        "      continue\n",
        "    if layer_counter == 1:\n",
        "      bias = p.data\n",
        "      bias = torch.reshape(bias,[len(bias),1])\n",
        "      layer_counter = 0\n",
        "      weight_bias = torch.cat([weights, bias],dim=1)\n",
        "      # layer_list safes the gradient norm per layer in a list of lists\n",
        "      layer_list[actual_layer].append(float(weight_bias.norm(2)))\n",
        "      actual_layer += 1\n",
        "      continue\n",
        "  return layer_list"
      ],
      "execution_count": 0,
      "outputs": []
    },
    {
      "cell_type": "markdown",
      "metadata": {
        "id": "rxYkeh6zIx9P",
        "colab_type": "text"
      },
      "source": [
        "We tried a lot of different optimizer and combinations of parameters. The best parameters we acutally found were using SGD with momentum=0.8, batchsize=128, neurons=256, learnrate=0.05. For 50 epoches this will result into approximately 70% accuracy for training and 50% for training. Unfortunately it is overfitting the training data. We tried various approaches to overcome this problem without loosing general accuracy. But all other approaches also resulted into approximately 50% accuracy for the testset.\n",
        "Worth of mentioning is that adadelta performs a bit worse for the settings above but there is 0 overfitting."
      ]
    },
    {
      "cell_type": "code",
      "metadata": {
        "id": "dV0Ze-JpfirJ",
        "colab_type": "code",
        "outputId": "485f5222-3646-49d2-ed7c-a14a3fe9c773",
        "colab": {
          "base_uri": "https://localhost:8080/",
          "height": 1000
        }
      },
      "source": [
        "\"\"\"\n",
        "  Setting up the parameters for the network and learning\n",
        "\"\"\"\n",
        "layers = [32*32*3,pow(2,8),10]\n",
        "number_layers = len(layers)-1\n",
        "layers_type = [\"sigmoid\",\"linear\"]\n",
        "model = Model(layers,layers_type)\n",
        "model = model.cuda()\n",
        "lr = 0.05\n",
        "loss_func = torch.nn.CrossEntropyLoss()\n",
        "#optimizer = torch.optim.Adam(model.parameters(), lr=lr)\n",
        "#optimizer = torch.optim.SGD(model.parameters(), lr=lr,momentum=0.8,nesterov=True)\n",
        "#optimizer = torch.optim.Adadelta(model.parameters(),lr=lr)\n",
        "optimizer = torch.optim.RMSprop(model.parameters(),lr=lr,momentum=0.8,weight_decay=0.0001)\n",
        "max_epoches = 50\n",
        "batch_size = pow(2,7)\n",
        "lr_scheduler = torch.optim.lr_scheduler.StepLR(optimizer,1,0.999)\n",
        "\n",
        "# dataloader\n",
        "train_dataloader = torchU.data.DataLoader(trainset,batch_size=batch_size,shuffle=True)\n",
        "test_dataloader = torchU.data.DataLoader(testset,batch_size=len(testset),shuffle=False)\n",
        "\n",
        "batch_counts = len(trainset)//batch_size\n",
        "\n",
        "final_error_training = []\n",
        "final_validation_error = []\n",
        "final_accuracy_training = []\n",
        "validation_accuracy = []\n",
        "error_test = []\n",
        "accuracy_test = []\n",
        "learnrate = []\n",
        "final_gradient_norm = []\n",
        "for i in range(number_layers):\n",
        "  final_gradient_norm.append([])\n",
        "# Loop over epochs\n",
        "for epoch in range(max_epoches):\n",
        "  print(\"epoch: \",epoch)\n",
        "  print(\"current learnrate: \", lr_scheduler.get_last_lr())\n",
        "  # Training\n",
        "  error_training = []\n",
        "  accuracy_training = []\n",
        "  gradient_norm = []\n",
        "  for i in range(number_layers):\n",
        "   gradient_norm.append([])\n",
        "  # selects one batch at random for a single validation\n",
        "  val_batch_ind = np.random.randint(batch_counts)\n",
        "  counter = 0\n",
        "  for local_batch, local_labels in train_dataloader:\n",
        "    # skip the validation batch\n",
        "    if val_batch_ind == counter:\n",
        "      counter += 1\n",
        "      val_batch = local_batch.clone()\n",
        "      val_labels = local_labels.clone()\n",
        "      continue\n",
        "    else:\n",
        "      counter += 1\n",
        "    local_batch, local_labels,pred,pred_as_indices,error,accuracy = learn_one_batch(model,local_batch,local_labels,loss_func,optimizer) \n",
        "    # append error and accuracy\n",
        "    error_training.append(float(error))\n",
        "    accuracy_training.append(accuracy)\n",
        "\n",
        "    # gradient norm\n",
        "    gradient_norm = calculate_gradient_norm(model,gradient_norm)\n",
        "  \n",
        "  # outside batch loop, inside epoch loop\n",
        "  with torch.no_grad():\n",
        "    # compute validation error and accuracy\n",
        "    val_batch, val_labels,pred,pred_as_indices,error,accuracy = learn_one_batch(model,val_batch,val_labels,loss_func,optimizer,train=False) \n",
        "    final_validation_error.append(float(error))\n",
        "    validation_accuracy.append(accuracy)\n",
        "\n",
        "    # since batchsize = len(testset) this is probably a nice workaround\n",
        "    # means there is exactly 1 batch \n",
        "    # compute test error and accuracy\n",
        "    for batch, labels in test_dataloader:\n",
        "      test_batch, test_labels,pred,pred_as_indices,error,accuracy = learn_one_batch(model,batch,labels,loss_func,optimizer,train=False) \n",
        "      error_test.append(error)\n",
        "      accuracy_test.append(accuracy)\n",
        "    # Take confusion matrix data from last epoch\n",
        "    if epoch == max_epoches-1:\n",
        "      actuals = []\n",
        "      predictions = []\n",
        "      for i in test_labels:\n",
        "        actuals.append(testset_classes[i.item()])\n",
        "      for i in pred_as_indices:\n",
        "        predictions.append(testset_classes[i.item()])\n",
        "\n",
        "  final_error_training.append(np.mean(error_training))\n",
        "  final_accuracy_training.append(np.mean(accuracy_training))\n",
        "  for i in range(number_layers):\n",
        "    final_gradient_norm[i].append(np.mean(gradient_norm[i]))\n",
        "  error_training.clear()\n",
        "  accuracy_training.clear()\n",
        "  learnrate.append(float(lr_scheduler.get_last_lr()[0]))\n",
        "  lr_scheduler.step()\n"
      ],
      "execution_count": 32,
      "outputs": [
        {
          "output_type": "stream",
          "text": [
            "epoch:  0\n",
            "current learnrate:  [0.05]\n",
            "epoch:  1\n",
            "current learnrate:  [0.04995]\n",
            "epoch:  2\n",
            "current learnrate:  [0.04990005]\n",
            "epoch:  3\n",
            "current learnrate:  [0.04985014995]\n",
            "epoch:  4\n",
            "current learnrate:  [0.04980029980005]\n",
            "epoch:  5\n",
            "current learnrate:  [0.04975049950024995]\n",
            "epoch:  6\n",
            "current learnrate:  [0.0497007490007497]\n",
            "epoch:  7\n",
            "current learnrate:  [0.04965104825174895]\n",
            "epoch:  8\n",
            "current learnrate:  [0.049601397203497204]\n",
            "epoch:  9\n",
            "current learnrate:  [0.04955179580629371]\n",
            "epoch:  10\n",
            "current learnrate:  [0.04950224401048742]\n",
            "epoch:  11\n",
            "current learnrate:  [0.04945274176647693]\n",
            "epoch:  12\n",
            "current learnrate:  [0.04940328902471045]\n",
            "epoch:  13\n",
            "current learnrate:  [0.04935388573568574]\n",
            "epoch:  14\n",
            "current learnrate:  [0.04930453184995005]\n",
            "epoch:  15\n",
            "current learnrate:  [0.0492552273181001]\n",
            "epoch:  16\n",
            "current learnrate:  [0.049205972090782]\n",
            "epoch:  17\n",
            "current learnrate:  [0.04915676611869122]\n",
            "epoch:  18\n",
            "current learnrate:  [0.04910760935257253]\n",
            "epoch:  19\n",
            "current learnrate:  [0.049058501743219955]\n",
            "epoch:  20\n",
            "current learnrate:  [0.049009443241476734]\n",
            "epoch:  21\n",
            "current learnrate:  [0.04896043379823526]\n",
            "epoch:  22\n",
            "current learnrate:  [0.048911473364437026]\n",
            "epoch:  23\n",
            "current learnrate:  [0.04886256189107259]\n",
            "epoch:  24\n",
            "current learnrate:  [0.04881369932918152]\n",
            "epoch:  25\n",
            "current learnrate:  [0.04876488562985234]\n",
            "epoch:  26\n",
            "current learnrate:  [0.048716120744222484]\n",
            "epoch:  27\n",
            "current learnrate:  [0.04866740462347826]\n",
            "epoch:  28\n",
            "current learnrate:  [0.048618737218854784]\n",
            "epoch:  29\n",
            "current learnrate:  [0.04857011848163593]\n",
            "epoch:  30\n",
            "current learnrate:  [0.04852154836315429]\n",
            "epoch:  31\n",
            "current learnrate:  [0.04847302681479113]\n",
            "epoch:  32\n",
            "current learnrate:  [0.04842455378797634]\n",
            "epoch:  33\n",
            "current learnrate:  [0.04837612923418836]\n",
            "epoch:  34\n",
            "current learnrate:  [0.04832775310495417]\n",
            "epoch:  35\n",
            "current learnrate:  [0.04827942535184922]\n",
            "epoch:  36\n",
            "current learnrate:  [0.04823114592649737]\n",
            "epoch:  37\n",
            "current learnrate:  [0.04818291478057087]\n",
            "epoch:  38\n",
            "current learnrate:  [0.0481347318657903]\n",
            "epoch:  39\n",
            "current learnrate:  [0.04808659713392451]\n",
            "epoch:  40\n",
            "current learnrate:  [0.04803851053679059]\n",
            "epoch:  41\n",
            "current learnrate:  [0.0479904720262538]\n",
            "epoch:  42\n",
            "current learnrate:  [0.04794248155422754]\n",
            "epoch:  43\n",
            "current learnrate:  [0.04789453907267331]\n",
            "epoch:  44\n",
            "current learnrate:  [0.04784664453360064]\n",
            "epoch:  45\n",
            "current learnrate:  [0.04779879788906704]\n",
            "epoch:  46\n",
            "current learnrate:  [0.04775099909117797]\n",
            "epoch:  47\n",
            "current learnrate:  [0.04770324809208679]\n",
            "epoch:  48\n",
            "current learnrate:  [0.04765554484399471]\n",
            "epoch:  49\n",
            "current learnrate:  [0.04760788929915071]\n"
          ],
          "name": "stdout"
        }
      ]
    },
    {
      "cell_type": "code",
      "metadata": {
        "id": "X5Kw_TgRDJMC",
        "colab_type": "code",
        "outputId": "30b697d5-bdea-4c25-a163-77129efb463a",
        "colab": {
          "base_uri": "https://localhost:8080/",
          "height": 1000
        }
      },
      "source": [
        "\"\"\"\n",
        "  Plotting: Confusion matrix, gradient norm for each layer, loss and accuracy for each epoch\n",
        "\"\"\"\n",
        "# Plot confusion matrix\n",
        "#actuals, predictions = [i.item() for i in actuals], [i.item() for i in predictions]\n",
        "cm = confusion_matrix(actuals, predictions, testset_classes)\n",
        "cm = pd.DataFrame(cm, testset_classes, testset_classes)\n",
        "plt.figure(figsize=(10,10))\n",
        "sn.set(font_scale=.8) # for label size\n",
        "sn.heatmap(cm, annot=True, fmt=\"d\", linewidths=.5, square = True);\n",
        "plt.ylabel('Actual label');\n",
        "plt.xlabel('Predicted label');\n",
        "plt.show()\n",
        "\n",
        "# Plot loss for validation, test and training\n",
        "plt.title(\"training,validation,test error\")\n",
        "plt.plot(final_error_training, label=\"training\")   \n",
        "plt.plot(final_validation_error, label = \"validation\")\n",
        "plt.plot(error_test, label = \"test\")\n",
        "plt.legend(loc=\"upper right\")\n",
        "plt.show()\n",
        "\n",
        "# Plot accuracy for validation, test and training\n",
        "plt.title(\"training,validation,test accuracy\")\n",
        "plt.plot(final_accuracy_training, label=\"training\")   \n",
        "plt.plot(validation_accuracy, label = \"validation\")\n",
        "plt.plot(accuracy_test, label = \"test\")\n",
        "plt.plot(learnrate,label=\"learnrate\")\n",
        "plt.legend(loc=\"upper left\")\n",
        "plt.show()\n",
        "\n",
        "# Plot gradient norm\n",
        "for i in range(number_layers):\n",
        "  plt.title(\"gradient norm: layer \" + str(int(i)))\n",
        "  print(len(final_gradient_norm))\n",
        "  plt.plot(final_gradient_norm[i])\n",
        "  plt.show()\n"
      ],
      "execution_count": 33,
      "outputs": [
        {
          "output_type": "display_data",
          "data": {
            "image/png": "[encoded data removed]",
            "text/plain": [
              "<Figure size 720x720 with 2 Axes>"
            ]
          },
          "metadata": {
            "tags": []
          }
        },
        {
          "output_type": "display_data",
          "data": {
            "image/png": "[encoded data removed]",
            "text/plain": [
              "<Figure size 432x288 with 1 Axes>"
            ]
          },
          "metadata": {
            "tags": []
          }
        },
        {
          "output_type": "display_data",
          "data": {
            "image/png": "[encoded data removed]",
            "text/plain": [
              "<Figure size 432x288 with 1 Axes>"
            ]
          },
          "metadata": {
            "tags": []
          }
        },
        {
          "output_type": "stream",
          "text": [
            "2\n"
          ],
          "name": "stdout"
        },
        {
          "output_type": "display_data",
          "data": {
            "image/png": "[encoded data removed]",
            "text/plain": [
              "<Figure size 432x288 with 1 Axes>"
            ]
          },
          "metadata": {
            "tags": []
          }
        },
        {
          "output_type": "stream",
          "text": [
            "2\n"
          ],
          "name": "stdout"
        },
        {
          "output_type": "display_data",
          "data": {
            "image/png": "[encoded data removed]",
            "text/plain": [
              "<Figure size 432x288 with 1 Axes>"
            ]
          },
          "metadata": {
            "tags": []
          }
        }
      ]
    }
  ]
}